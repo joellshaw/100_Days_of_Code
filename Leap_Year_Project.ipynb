{
 "cells": [
  {
   "cell_type": "code",
   "execution_count": null,
   "id": "33f2f5c4-f745-442b-814e-9e61e08d95fd",
   "metadata": {},
   "outputs": [],
   "source": [
    "# Write a program that works out whether if a given year is a leap year\n",
    "# A normal year has 365 days, leap years have 366, with an extra day in February.\n",
    "# The reason why we have leap years is really fascinating, this video does it more justice:"
   ]
  }
 ],
 "metadata": {
  "kernelspec": {
   "display_name": "Python 3 (ipykernel)",
   "language": "python",
   "name": "python3"
  },
  "language_info": {
   "codemirror_mode": {
    "name": "ipython",
    "version": 3
   },
   "file_extension": ".py",
   "mimetype": "text/x-python",
   "name": "python",
   "nbconvert_exporter": "python",
   "pygments_lexer": "ipython3",
   "version": "3.11.1"
  }
 },
 "nbformat": 4,
 "nbformat_minor": 5
}
